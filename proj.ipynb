{
 "cells": [
  {
   "cell_type": "code",
   "execution_count": 8,
   "metadata": {},
   "outputs": [
    {
     "data": {
      "text/plain": [
       "(227746, 40)"
      ]
     },
     "execution_count": 8,
     "metadata": {},
     "output_type": "execute_result"
    }
   ],
   "source": [
    "import pandas as pd\n",
    "import numpy as np\n",
    "import matplotlib.pyplot as plt\n",
    "import seaborn as sns\n",
    "\n",
    "data = pd.read_csv(\"datasets/My_CHI._My_Future._Programs.csv\")\n",
    "data.shape"
   ]
  },
  {
   "cell_type": "code",
   "execution_count": 9,
   "metadata": {},
   "outputs": [],
   "source": [
    "head = data.head()"
   ]
  },
  {
   "cell_type": "code",
   "execution_count": 10,
   "metadata": {},
   "outputs": [
    {
     "data": {
      "text/plain": [
       "array(['Academic Support', 'Reading & Writing.', 'Music & Art.',\n",
       "       'Sports + Wellness.', 'Science', 'Work + Career', 'Computers.',\n",
       "       'Food.', 'Nature.', 'Helping Your Community.', 'Healthcare',\n",
       "       'Building & Fixing Things', 'Managing Money.', 'Digital Media.',\n",
       "       'Social Studies', 'Performance.', 'Customer/Human Service', 'Math',\n",
       "       'Transportation', 'Teaching', 'Science & Math', 'Computers', 'Law',\n",
       "       nan], dtype=object)"
      ]
     },
     "execution_count": 10,
     "metadata": {},
     "output_type": "execute_result"
    }
   ],
   "source": [
    "data['Category Name'].unique()"
   ]
  },
  {
   "cell_type": "code",
   "execution_count": 11,
   "metadata": {},
   "outputs": [
    {
     "data": {
      "text/plain": [
       "Program ID                      0\n",
       "Program Name                    0\n",
       "Description                     0\n",
       "Org Name                        0\n",
       "Category Name                   1\n",
       "Capacity                     7035\n",
       "Min Age                         0\n",
       "Max Age                         0\n",
       "Address                      7316\n",
       "City                         6196\n",
       "State                        6196\n",
       "ZIP Code                     7393\n",
       "Program Type                    0\n",
       "Program URL                  4358\n",
       "Online Address             218995\n",
       "Registration URL            10005\n",
       "Registration Open          225560\n",
       "Registration Deadline      165833\n",
       "Start Date                      0\n",
       "End Date                        0\n",
       "Start Time                  24427\n",
       "End Time                    24444\n",
       "Contact Name                14418\n",
       "Contact Email               26328\n",
       "Contact Phone               26726\n",
       "Program Price                   0\n",
       "Geographic Cluster Name     11136\n",
       "Scholarship Available           0\n",
       "Participants Paid            2914\n",
       "Transport Provided           3253\n",
       "Has Free Food                1750\n",
       "Meeting Type                    0\n",
       "Image                      215121\n",
       "Hidden Programs                 0\n",
       "Featured                        0\n",
       "Custom Categories          221126\n",
       "Tag                             0\n",
       "Latitude                     8131\n",
       "Longitude                    8131\n",
       "Location                     8131\n",
       "dtype: int64"
      ]
     },
     "execution_count": 11,
     "metadata": {},
     "output_type": "execute_result"
    }
   ],
   "source": [
    "data.isnull().sum()"
   ]
  },
  {
   "cell_type": "code",
   "execution_count": 12,
   "metadata": {},
   "outputs": [
    {
     "data": {
      "text/plain": [
       "9         https://cityoflearning-uploads.s3.amazonaws.co...\n",
       "20        https://cityoflearning-uploads.s3.amazonaws.co...\n",
       "21        https://cityoflearning-uploads.s3.amazonaws.co...\n",
       "22        https://cityoflearning-uploads.s3.amazonaws.co...\n",
       "23        https://cityoflearning-uploads.s3.amazonaws.co...\n",
       "                                ...                        \n",
       "227661    https://cityoflearning-uploads.s3.amazonaws.co...\n",
       "227663    https://cityoflearning-uploads.s3.amazonaws.co...\n",
       "227693    https://cityoflearning-uploads.s3.amazonaws.co...\n",
       "227705    https://cityoflearning-uploads.s3.amazonaws.co...\n",
       "227713    https://cityoflearning-uploads.s3.amazonaws.co...\n",
       "Name: Image, Length: 12625, dtype: object"
      ]
     },
     "execution_count": 12,
     "metadata": {},
     "output_type": "execute_result"
    }
   ],
   "source": [
    "data.loc[~data['Image'].isnull()]['Image']\n",
    "# image column is useless"
   ]
  },
  {
   "cell_type": "code",
   "execution_count": 13,
   "metadata": {},
   "outputs": [
    {
     "data": {
      "text/plain": [
       "Timestamp('2025-06-16 00:00:00')"
      ]
     },
     "execution_count": 13,
     "metadata": {},
     "output_type": "execute_result"
    }
   ],
   "source": [
    "pd.to_datetime(data['Start Date']).max()"
   ]
  },
  {
   "cell_type": "code",
   "execution_count": 14,
   "metadata": {},
   "outputs": [
    {
     "name": "stdout",
     "output_type": "stream",
     "text": [
      "                      date                                           location  \\\n",
      "0  2022-12-31T23:55:00.000  {'latitude': '41.878373984', 'human_address': ...   \n",
      "1  2022-12-31T23:50:00.000  {'latitude': '42.009107852', 'human_address': ...   \n",
      "2  2022-12-31T23:50:00.000  {'latitude': '41.882256634', 'human_address': ...   \n",
      "3  2022-12-31T23:47:00.000  {'latitude': '41.72781203', 'human_address': '...   \n",
      "4  2022-12-31T23:47:00.000  {'latitude': '41.72781203', 'human_address': '...   \n",
      "\n",
      "  district                    block y_coordinate      latitude  \\\n",
      "0      015         055XX W ADAMS ST      1898786  41.878373984   \n",
      "1      024         014XX W LUNT AVE      1946614  42.009107852   \n",
      "2      015  055XX W WASHINGTON BLVD      1900199  41.882256634   \n",
      "3      022        091XX S LAFLIN ST      1844124   41.72781203   \n",
      "4      022        091XX S LAFLIN ST      1844124   41.72781203   \n",
      "\n",
      "                     description             location_description  \\\n",
      "0     RECKLESS FIREARM DISCHARGE  RESIDENCE - YARD (FRONT / BACK)   \n",
      "1                     AUTOMOBILE                            ALLEY   \n",
      "2        DOMESTIC BATTERY SIMPLE                        APARTMENT   \n",
      "3  UNLAWFUL POSSESSION - HANDGUN                        APARTMENT   \n",
      "4                         SIMPLE                           STREET   \n",
      "\n",
      "                updated_on community_area  ... ward case_number  year  \\\n",
      "0  2023-11-15T15:41:31.000             25  ...   29    JG202134  2022   \n",
      "1  2023-01-07T15:41:08.000              1  ...   49    JG100016  2022   \n",
      "2  2023-01-07T15:41:08.000             25  ...   29    JG100085  2022   \n",
      "3  2023-01-07T15:41:08.000             73  ...   21    JG100005  2022   \n",
      "4  2023-01-07T15:41:08.000             73  ...   21    JG100087  2022   \n",
      "\n",
      "  domestic fbi_code      longitude  beat         primary_type arrest        id  \n",
      "0    False       15  -87.762731975  1522    WEAPONS VIOLATION  False  13024128  \n",
      "1    False       07  -87.666843608  2431  MOTOR VEHICLE THEFT  False  12938337  \n",
      "2     True      08B  -87.763744015  1523              BATTERY  False  12938426  \n",
      "3    False       15  -87.660399127  2221    WEAPONS VIOLATION   True  12938340  \n",
      "4    False      08A  -87.660399127  2221              ASSAULT   True  12938351  \n",
      "\n",
      "[5 rows x 22 columns]\n"
     ]
    }
   ],
   "source": [
    "import requests\n",
    "\n",
    "url = \"https://data.cityofchicago.org/resource/9hwr-2zxp.json\"\n",
    "response = requests.get(url)\n",
    "json_data = response.json()\n",
    "\n",
    "crime = pd.DataFrame(json_data)\n",
    "print(crime.head())"
   ]
  },
  {
   "cell_type": "code",
   "execution_count": 15,
   "metadata": {},
   "outputs": [
    {
     "name": "stdout",
     "output_type": "stream",
     "text": [
      "   school_id    short_name                                 long_name  \\\n",
      "0     610193  NEW SULLIVAN  William K New Sullivan Elementary School   \n",
      "1     609978         SMITH           Wendell Smith Elementary School   \n",
      "2     609695   AMUNDSEN HS                Roald Amundsen High School   \n",
      "3     610104        ONAHAN        William J Onahan Elementary School   \n",
      "4     610389        ORR HS                   Orr Academy High School   \n",
      "\n",
      "    school_type primary_category              address     city     state  \\\n",
      "0  Neighborhood               ES  8331 S MACKINAW AVE  Chicago  Illinois   \n",
      "1  Neighborhood               ES       744 E 103RD ST  Chicago  Illinois   \n",
      "2  Neighborhood               HS     5110 N DAMEN AVE  Chicago  Illinois   \n",
      "3  Neighborhood               ES      6634 W RAVEN ST  Chicago  Illinois   \n",
      "4  Neighborhood               HS     730 N PULASKI RD  Chicago  Illinois   \n",
      "\n",
      "     zip         phone  ... attainment_sat_grade_11_school  \\\n",
      "0  60617  773-535-6585  ...                            0.0   \n",
      "1  60628  773-535-5689  ...                            0.0   \n",
      "2  60625  773-534-2320  ...                           34.1   \n",
      "3  60631  773-534-1180  ...                            0.0   \n",
      "4  60624  773-534-6500  ...                            5.3   \n",
      "\n",
      "  attainment_sat_grade_11_school_1 attainment_all_grades_school  \\\n",
      "0                              0.0                          NaN   \n",
      "1                              0.0                          NaN   \n",
      "2                             34.1                          NaN   \n",
      "3                              0.0                          NaN   \n",
      "4                              5.3                          NaN   \n",
      "\n",
      "   attainment_all_grades_school_1  growth_psat_math_grade_10  \\\n",
      "0                             NaN                        NaN   \n",
      "1                             NaN                        NaN   \n",
      "2                             NaN                        NaN   \n",
      "3                             NaN                        NaN   \n",
      "4                             NaN                        NaN   \n",
      "\n",
      "   growth_psat_math_grade_10_1  growth_sat_reading_grade  \\\n",
      "0                          NaN                       NaN   \n",
      "1                          NaN                       NaN   \n",
      "2                          NaN                       NaN   \n",
      "3                          NaN                       NaN   \n",
      "4                          NaN                       NaN   \n",
      "\n",
      "   growth_sat_reading_grade_1  growth_sat_math_grade_11  \\\n",
      "0                         NaN                       NaN   \n",
      "1                         NaN                       NaN   \n",
      "2                         NaN                       NaN   \n",
      "3                         NaN                       NaN   \n",
      "4                         NaN                       NaN   \n",
      "\n",
      "  growth_sat_math_grade_11_1  \n",
      "0                        NaN  \n",
      "1                        NaN  \n",
      "2                        NaN  \n",
      "3                        NaN  \n",
      "4                        NaN  \n",
      "\n",
      "[5 rows x 182 columns]\n"
     ]
    }
   ],
   "source": [
    "school_progress_21_22 = pd.read_csv(\"https://data.cityofchicago.org/resource/ngix-dc87.csv\")\n",
    "print(school_progress_21_22.head())"
   ]
  },
  {
   "cell_type": "code",
   "execution_count": 16,
   "metadata": {},
   "outputs": [],
   "source": [
    "school_progress_22_23 = pd.read_csv(\"https://data.cityofchicago.org/resource/d7as-muwj.csv\")"
   ]
  },
  {
   "cell_type": "code",
   "execution_count": 17,
   "metadata": {},
   "outputs": [],
   "source": [
    "school_progress_23_24 = pd.read_csv(\"https://data.cityofchicago.org/resource/2dn2-x66j.csv\")"
   ]
  },
  {
   "cell_type": "markdown",
   "metadata": {},
   "source": [
    "### 1. Are there any correlations between crime and availability of programs in certain districts when crime incidents happen, and more importantly, does a crime incident mean that programs are affected some considerable time after the incident? \n",
    "### 2. Is there such a thing as outlier districts that despite having high crime, they present high student attainment, high graduation rate and a great number of programs? How big of a role does crime play in access to programs and high educational attainment?\n"
   ]
  },
  {
   "cell_type": "code",
   "execution_count": null,
   "metadata": {},
   "outputs": [],
   "source": []
  }
 ],
 "metadata": {
  "kernelspec": {
   "display_name": "venv",
   "language": "python",
   "name": "python3"
  },
  "language_info": {
   "codemirror_mode": {
    "name": "ipython",
    "version": 3
   },
   "file_extension": ".py",
   "mimetype": "text/x-python",
   "name": "python",
   "nbconvert_exporter": "python",
   "pygments_lexer": "ipython3",
   "version": "3.11.5"
  }
 },
 "nbformat": 4,
 "nbformat_minor": 2
}
